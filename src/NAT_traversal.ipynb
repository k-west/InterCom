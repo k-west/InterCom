{
 "cells": [
  {
   "cell_type": "code",
   "execution_count": 1,
   "id": "d61c4c9a-389e-42c2-b6e8-971e31394c3f",
   "metadata": {},
   "outputs": [
    {
     "data": {
      "text/plain": [
       "_StoreTrueAction(option_strings=['-d', '--list-devices'], dest='list_devices', nargs=0, const=True, default=False, type=None, choices=None, required=False, help='Print the available audio devices and quit', metavar=None)"
      ]
     },
     "execution_count": 1,
     "metadata": {},
     "output_type": "execute_result"
    }
   ],
   "source": [
    "from minimal import Minimal, int_or_str\n",
    "import os\n",
    "import sys\n",
    "import stun\n",
    "import argparse\n",
    "import sounddevice as sd\n",
    "\n",
    "sys.argv = ['NAT_traversal.py', '-n']\n",
    "\n",
    "parser = argparse.ArgumentParser()\n",
    "parser.add_argument(\"-n\", \"--get-endpoint-nat\", action=\"store_true\", help=\"Print public endpoint and NAT type\")\n",
    "parser.add_argument(\"-d\", \"--list-devices\", action=\"store_true\", help=\"Print the available audio devices and quit\")"
   ]
  },
  {
   "cell_type": "markdown",
   "id": "bcb99b52-f559-4e30-b855-4903615af55c",
   "metadata": {},
   "source": []
  },
  {
   "cell_type": "code",
   "execution_count": 2,
   "id": "cb02028b-a4c5-4d68-8729-c03d53406f57",
   "metadata": {},
   "outputs": [],
   "source": [
    "class NAT_traversal(Minimal):\n",
    "    def __init__(self):\n",
    "        super().__init__()\n",
    "        self.nat_type, self.external_ip, self.external_port = stun.get_ip_info(stun_host='stun.l.google.com')\n",
    "        self.our_nat_type = self.get_nat_type()\n",
    "\n",
    "    def get_nat_type(self):\n",
    "        nat_type1, external_ip1, external_port1 = stun.get_ip_info(stun_host='stun.l.google.com')\n",
    "        nat_type2, external_ip2, external_port2 = stun.get_ip_info(stun_host='stun.l.google.com')\n",
    "\n",
    "        if external_port1 == external_port2:\n",
    "            return \"Cone\"\n",
    "        \n",
    "        else:\n",
    "            return \"Symmetric\""
   ]
  },
  {
   "cell_type": "markdown",
   "id": "f199d245-abeb-485c-bd5f-12b074bc65a5",
   "metadata": {},
   "source": []
  },
  {
   "cell_type": "code",
   "execution_count": 3,
   "id": "c6e90ec1-a963-4050-bcf6-efaec21df263",
   "metadata": {},
   "outputs": [
    {
     "name": "stderr",
     "output_type": "stream",
     "text": [
      "(INFO) minimal: A minimal InterCom (no compression, no quantization, no transform, ... only provides a bidirectional (full-duplex) transmission of raw (playable) chunks. \n",
      "(INFO) minimal: NUMBER_OF_CHANNELS = 2\n",
      "(INFO) minimal: chunk_time = 0.023219954648526078 seconds\n"
     ]
    },
    {
     "name": "stdout",
     "output_type": "stream",
     "text": [
      "['NAT_traversal.py', '-n']\n",
      "Namespace(get_endpoint_nat=True, list_devices=False)\n",
      "NAT type (self-determined): Cone\n",
      "NAT type (STUN servers): Full Cone\n",
      "Public IP: 188.26.199.58\n",
      "Port: 54320\n"
     ]
    }
   ],
   "source": [
    "print(sys.argv)\n",
    "args = parser.parse_args()\n",
    "print(args)\n",
    "\n",
    "n = NAT_traversal()\n",
    "\n",
    "if args.get_endpoint_nat:\n",
    "    print(\"NAT type (self-determined): \" + n.our_nat_type)\n",
    "    print(\"NAT type (STUN servers): \" + n.nat_type)\n",
    "    print(\"Public IP: \" + n.external_ip)\n",
    "    print(\"Port: \" + str(n.external_port))\n",
    "    \n",
    "elif args.list_devices:\n",
    "    print(\"Available devices:\")\n",
    "    print(sd.query_devices())\n",
    "\n",
    "else:\n",
    "    try:\n",
    "        n.run()\n",
    "    except KeyboardInterrupt:\n",
    "        parser.exit(\"\\nSIGINT received\")\n",
    "    finally:\n",
    "        n.print_final_averages()"
   ]
  }
 ],
 "metadata": {
  "kernelspec": {
   "display_name": "Python 3 (ipykernel)",
   "language": "python",
   "name": "python3"
  },
  "language_info": {
   "codemirror_mode": {
    "name": "ipython",
    "version": 3
   },
   "file_extension": ".py",
   "mimetype": "text/x-python",
   "name": "python",
   "nbconvert_exporter": "python",
   "pygments_lexer": "ipython3",
   "version": "3.11.5"
  }
 },
 "nbformat": 4,
 "nbformat_minor": 5
}
