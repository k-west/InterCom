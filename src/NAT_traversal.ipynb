{
 "cells": [
  {
   "cell_type": "markdown",
   "metadata": {},
   "source": [
    "# NAT Traversal "
   ]
  },
  {
   "cell_type": "markdown",
   "metadata": {},
   "source": [
    "The following is our implementation of NAT traversal, inheriting the Minimal class from `minimal.py`.\n",
    "\n",
    "To make the code work with Jupyter Notebook, we had to make some small adjustments: As you can't call a python module with command line arguments from Jupyter, we had to specify `-n` manually. The argument options for printing the public endpoint and NAT type and printing the available audio devices are also added before declaring the `NAT_traversal` class."
   ]
  },
  {
   "cell_type": "code",
   "execution_count": 1,
   "id": "d61c4c9a-389e-42c2-b6e8-971e31394c3f",
   "metadata": {},
   "outputs": [
    {
     "ename": "ModuleNotFoundError",
     "evalue": "No module named 'soundfile'",
     "output_type": "error",
     "traceback": [
      "\u001b[1;31m---------------------------------------------------------------------------\u001b[0m",
      "\u001b[1;31mModuleNotFoundError\u001b[0m                       Traceback (most recent call last)",
      "\u001b[1;32mf:\\Dokumente\\Uni\\Bamberg\\Auslandssemester\\Spanien\\WS 2023-24\\Tecnologías Multimedia\\InterCom\\src\\NAT_traversal.ipynb Cell 3\u001b[0m line \u001b[0;36m1\n\u001b[1;32m----> <a href='vscode-notebook-cell:/f%3A/Dokumente/Uni/Bamberg/Auslandssemester/Spanien/WS%202023-24/Tecnolog%C3%ADas%20Multimedia/InterCom/src/NAT_traversal.ipynb#W0sZmlsZQ%3D%3D?line=0'>1</a>\u001b[0m \u001b[39mfrom\u001b[39;00m \u001b[39mminimal\u001b[39;00m \u001b[39mimport\u001b[39;00m Minimal, int_or_str\n\u001b[0;32m      <a href='vscode-notebook-cell:/f%3A/Dokumente/Uni/Bamberg/Auslandssemester/Spanien/WS%202023-24/Tecnolog%C3%ADas%20Multimedia/InterCom/src/NAT_traversal.ipynb#W0sZmlsZQ%3D%3D?line=1'>2</a>\u001b[0m \u001b[39mimport\u001b[39;00m \u001b[39mos\u001b[39;00m\n\u001b[0;32m      <a href='vscode-notebook-cell:/f%3A/Dokumente/Uni/Bamberg/Auslandssemester/Spanien/WS%202023-24/Tecnolog%C3%ADas%20Multimedia/InterCom/src/NAT_traversal.ipynb#W0sZmlsZQ%3D%3D?line=2'>3</a>\u001b[0m \u001b[39mimport\u001b[39;00m \u001b[39msys\u001b[39;00m\n",
      "File \u001b[1;32mf:\\Dokumente\\Uni\\Bamberg\\Auslandssemester\\Spanien\\WS 2023-24\\Tecnologías Multimedia\\InterCom\\src\\minimal.py:15\u001b[0m\n\u001b[0;32m     13\u001b[0m \u001b[39mimport\u001b[39;00m \u001b[39mpsutil\u001b[39;00m\n\u001b[0;32m     14\u001b[0m \u001b[39mimport\u001b[39;00m \u001b[39mlogging\u001b[39;00m\n\u001b[1;32m---> 15\u001b[0m \u001b[39mimport\u001b[39;00m \u001b[39msoundfile\u001b[39;00m \u001b[39mas\u001b[39;00m \u001b[39msf\u001b[39;00m\n\u001b[0;32m     16\u001b[0m \u001b[39mimport\u001b[39;00m \u001b[39mlogging\u001b[39;00m\n\u001b[0;32m     17\u001b[0m \u001b[39m#FORMAT = \"%(module)s: %(message)s\"\u001b[39;00m\n",
      "\u001b[1;31mModuleNotFoundError\u001b[0m: No module named 'soundfile'"
     ]
    }
   ],
   "source": [
    "from minimal import Minimal, int_or_str\n",
    "import os\n",
    "import sys\n",
    "import stun\n",
    "import argparse\n",
    "import sounddevice as sd\n",
    "\n",
    "sys.argv = ['NAT_traversal.py', '-n']\n",
    "\n",
    "parser = argparse.ArgumentParser()\n",
    "parser.add_argument(\"-n\", \"--get-endpoint-nat\", action=\"store_true\", help=\"Print public endpoint and NAT type\")\n",
    "parser.add_argument(\"-d\", \"--list-devices\", action=\"store_true\", help=\"Print the available audio devices and quit\")"
   ]
  },
  {
   "cell_type": "markdown",
   "metadata": {},
   "source": [
    "The class `NAT_traversal` inherits from `minimal.Minimal` and additionaly contains our (very simple) way of figuring out our external IP and port and the NAT type we are behind. "
   ]
  },
  {
   "cell_type": "code",
   "execution_count": 2,
   "id": "cb02028b-a4c5-4d68-8729-c03d53406f57",
   "metadata": {},
   "outputs": [],
   "source": [
    "class NAT_traversal(Minimal):\n",
    "    def __init__(self):\n",
    "        super().__init__()\n",
    "        self.nat_type, self.external_ip, self.external_port = stun.get_ip_info(stun_host='stun.l.google.com')\n",
    "        self.our_nat_type = self.get_nat_type()\n",
    "\n",
    "    def get_nat_type(self):\n",
    "        nat_type1, external_ip1, external_port1 = stun.get_ip_info(stun_host='stun.l.google.com')\n",
    "        nat_type2, external_ip2, external_port2 = stun.get_ip_info(stun_host='stun.l.google.com')\n",
    "\n",
    "        if external_port1 == external_port2:\n",
    "            return \"Cone\"\n",
    "        \n",
    "        else:\n",
    "            return \"Symmetric\""
   ]
  },
  {
   "cell_type": "markdown",
   "metadata": {},
   "source": [
    "Subsequently, we parse the command line arguments (just `-n` in this case), initiate a `NAT_traversal` instance and either print our NAT type and public IP and port, our available sound devices or run InterCom."
   ]
  },
  {
   "cell_type": "code",
   "execution_count": 3,
   "id": "c6e90ec1-a963-4050-bcf6-efaec21df263",
   "metadata": {},
   "outputs": [
    {
     "name": "stderr",
     "output_type": "stream",
     "text": [
      "(INFO) minimal: A minimal InterCom (no compression, no quantization, no transform, ... only provides a bidirectional (full-duplex) transmission of raw (playable) chunks. \n",
      "(INFO) minimal: NUMBER_OF_CHANNELS = 2\n",
      "(INFO) minimal: chunk_time = 0.023219954648526078 seconds\n"
     ]
    },
    {
     "name": "stdout",
     "output_type": "stream",
     "text": [
      "['NAT_traversal.py', '-n']\n",
      "Namespace(get_endpoint_nat=True, list_devices=False)\n",
      "NAT type (self-determined): Cone\n",
      "NAT type (STUN servers): Full Cone\n",
      "Public IP: 188.26.199.58\n",
      "Port: 54320\n"
     ]
    }
   ],
   "source": [
    "args = parser.parse_args()\n",
    "\n",
    "n = NAT_traversal()\n",
    "\n",
    "if args.get_endpoint_nat:\n",
    "    print(\"NAT type (self-determined): \" + n.our_nat_type)\n",
    "    print(\"NAT type (STUN servers): \" + n.nat_type)\n",
    "    print(\"Public IP: \" + n.external_ip)\n",
    "    print(\"Port: \" + str(n.external_port))\n",
    "    \n",
    "elif args.list_devices:\n",
    "    print(\"Available devices:\")\n",
    "    print(sd.query_devices())\n",
    "\n",
    "else:\n",
    "    try:\n",
    "        n.run()\n",
    "    except KeyboardInterrupt:\n",
    "        parser.exit(\"\\nSIGINT received\")\n",
    "    finally:\n",
    "        n.print_final_averages()"
   ]
  }
 ],
 "metadata": {
  "kernelspec": {
   "display_name": "Python 3 (ipykernel)",
   "language": "python",
   "name": "python3"
  },
  "language_info": {
   "codemirror_mode": {
    "name": "ipython",
    "version": 3
   },
   "file_extension": ".py",
   "mimetype": "text/x-python",
   "name": "python",
   "nbconvert_exporter": "python",
   "pygments_lexer": "ipython3",
   "version": "3.9.1"
  }
 },
 "nbformat": 4,
 "nbformat_minor": 5
}
