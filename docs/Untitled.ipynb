{
 "cells": [
  {
   "cell_type": "markdown",
   "id": "3e7663d5-fa76-4a4f-8591-8223b0b64ebd",
   "metadata": {},
   "source": [
    "# Echo Cancellation"
   ]
  },
  {
   "cell_type": "markdown",
   "id": "03f03283-1a74-432a-9490-b0bd6d3c9664",
   "metadata": {},
   "source": [
    "To implement echo cancellation, we implemented a class called `EchoCancelling`, inheriting from the `Buffering` class from `buffer.py`. `cancel_echo.py` adds two command line parameters `-x` and `-y` to set the parameter _α_ needed for the echo cancellation and the delay between speaker and microphone (in seconds), respectively. Our code overwrites the internal `_record_io_and_play(self, indata, outdata, frames, time, status)` method, "
   ]
  },
  {
   "cell_type": "code",
   "execution_count": null,
   "id": "b6109521-e58e-469a-9bc4-b5df0ee61aa6",
   "metadata": {},
   "outputs": [],
   "source": []
  }
 ],
 "metadata": {
  "kernelspec": {
   "display_name": "Python 3 (ipykernel)",
   "language": "python",
   "name": "python3"
  },
  "language_info": {
   "codemirror_mode": {
    "name": "ipython",
    "version": 3
   },
   "file_extension": ".py",
   "mimetype": "text/x-python",
   "name": "python",
   "nbconvert_exporter": "python",
   "pygments_lexer": "ipython3",
   "version": "3.11.6"
  }
 },
 "nbformat": 4,
 "nbformat_minor": 5
}
