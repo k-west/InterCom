{
 "cells": [
  {
   "cell_type": "markdown",
   "id": "3d7cce20-c98c-4e45-84b2-2f25711eb599",
   "metadata": {},
   "source": [
    "# Bit-Rate Control in InterCom"
   ]
  },
  {
   "cell_type": "markdown",
   "id": "a9dc5621-feb8-454b-b896-52065396f3a0",
   "metadata": {},
   "source": [
    "Maximilian Hebeis, Artur Jakubowski, Weronika Niezorawska, Julia Plichta"
   ]
  },
  {
   "cell_type": "markdown",
   "id": "f4917b03-6653-46e8-b273-07594dab142e",
   "metadata": {},
   "source": [
    "### 2.1 Which data-ordering performs better?"
   ]
  },
  {
   "cell_type": "markdown",
   "id": "fa68c23e-7bec-4091-a81f-b456549f7e26",
   "metadata": {},
   "source": []
  },
  {
   "cell_type": "markdown",
   "id": "20095860-0a6a-4dff-8bd0-4c0ae40ec37e",
   "metadata": {},
   "source": [
    "### 2.2 Estimate the bit-rate in an Internet link"
   ]
  },
  {
   "cell_type": "markdown",
   "id": "a3cafe27-dd11-46ef-8a1c-28bbb9bf7148",
   "metadata": {},
   "source": [
    "As mentioned on the web page, there are two possible ways to measure the bitrate: Using a dedicated tool such as _iPerf_ or estimating the link throughput using _ping_. We tried both to get an estimation. The two machines between which we set up a connection where located in Bamberg, Germany, and Jena, Germany, approximately 126 km from each other. The server was stationed in Bamberg, while the client was located in Jena.\n",
    "![title](imgs/bitrate01.png)\n",
    "Source: https://www.mapdevelopers.com/distance_from_to.php"
   ]
  },
  {
   "cell_type": "markdown",
   "id": "3561869b-3584-4c4c-b3b2-326ceceb83e8",
   "metadata": {},
   "source": [
    "First we set up _iPerf_ on both hosts:\n",
    "![title](imgs/bitrate02.png)\n",
    "![title](imgs/bitrate06.png)\n",
    "\n",
    "According to _iPerf_, a bitrate of between 8.36 and 8.48 Mbit/s could be established between the host and the server."
   ]
  },
  {
   "cell_type": "markdown",
   "id": "540f5917-4703-4855-923f-9e11dc88d96a",
   "metadata": {},
   "source": [
    "Subsequently, we used _ping_ to get an alternative measurement of the bitrate between the two hosts. This time, the host in Jena was pinged by the host in Bamberg. We ran _ping_ using the smallest possible payload that provides RTTs values, which turned out to be 16 bytes (cf. https://serverfault.com/questions/361147/why-doesnt-ping-show-rtt) and using the largest possible payload, which we determined to be 1250 bytes by trial-and-error.\n",
    "\n",
    "![title](imgs/bitrate03.png)\n",
    "![title](imgs/bitrate04.png)\n",
    "\n",
    "Using the formula from the lecture to determine $ t_p $ with the value for $ RTT_{min} $ we got from pinging with the smallest possible payload:\n",
    "$$ t_p \\approx \\frac{RTT_{min}}{2} = \\frac{0.054337 s}{2} = 0.0271685 s $$\n",
    "Subsequently, we can compute $ t_t $ using the $ RTT_{max} $ we got from pinging with the largest possible payload:\n",
    "$$ t_t = \\frac{RTT_{max} - 2t_p}{2} = \\frac{0.067597 s - 2 \\cdot 0.0271685 s}{2} = 0.00663 s $$\n",
    "Finally, we determined the bitrate _b_:\n",
    "$$ b = \\frac{B}{t_t} = \\frac{1250 \\cdot 8 bits}{0.00663 s} \\approx 1.508 Mbit/s $$"
   ]
  },
  {
   "cell_type": "markdown",
   "id": "5cdabcad-96a7-4c86-aa4d-36b0bf09e563",
   "metadata": {},
   "source": [
    "### 2.3 Simulate the link, 2.4 Compute RD (Rate/Distortion) curves"
   ]
  },
  {
   "cell_type": "markdown",
   "id": "ae3362af-51f0-40da-ba98-f9c58639f69d",
   "metadata": {},
   "source": [
    "To simulate different links and compute the corresponding RMSE for each of the four bitrate control implementations, we implemented a new module called `RMSE_chunks.py`. This module is supposed to compare the sent and received chunks in the use case of using a single InterCom instance to transfer an audio file over a (simulated) localhost link. The base class `RMSEChunks_no` inherits from `BR_Control_No` and is thus used to measure the RMSEs for this implementation, the three other classes `RMSEChunks_add_lost`, `RMSE_Chunks_lost` and `RMSEChunks_conservative` are used to measure the respective RMSEs for the other implementations."
   ]
  },
  {
   "cell_type": "code",
   "execution_count": null,
   "id": "1422b1a2-7844-4370-a7ec-2fcaa8694c89",
   "metadata": {},
   "outputs": [],
   "source": [
    "#!/usr/bin/env python\n",
    "# PYTHON_ARGCOMPLETE_OK\n",
    "\n",
    "'''An Intercom wrapper employing different implementations of bit-rate control \n",
    "and computing the RMSE over the sent and received chunks (if sent and received \n",
    "in a single InterCom instance).'''\n",
    "\n",
    "import minimal\n",
    "import buffer\n",
    "import logging\n",
    "import numpy as np\n",
    "import matplotlib.pyplot as plt\n",
    "import os\n",
    "import signal\n",
    "import BR_control_no\n",
    "import BR_control_add_lost\n",
    "import BR_control_lost\n",
    "import BR_control_conservative\n",
    "\n",
    "minimal.parser.add_argument(\"-z\", \"--bitrate_imp\", type=int, default=0, help=\"Select bitrate control implementation\")\n",
    "\n",
    "class RMSEChunks_no(BR_control_no.BR_Control_No):\n",
    "    def __init__(self):\n",
    "        logging.disable(logging.CRITICAL)\n",
    "        super().__init__()\n",
    "\n",
    "        self.sent_chunks = np.empty((1024, 2))\n",
    "        self.recd_chunks = np.empty((1024, 2))\n",
    "    \n",
    "    def _read_io_and_play(self, outdata, frames, time, status):\n",
    "        read_chunk = super()._read_io_and_play(outdata, frames, time, status)\n",
    "        self.sent_chunks = np.append(self.sent_chunks, read_chunk)\n",
    "        return read_chunk\n",
    "    \n",
    "    def receive_and_buffer(self):\n",
    "        chunk_number = super().receive_and_buffer()\n",
    "        self.recd_chunks = np.append(self.recd_chunks, self._buffer[chunk_number % self.cells_in_buffer])\n",
    "        return chunk_number\n",
    "    \n",
    "    def read_chunk_from_file(self):\n",
    "        chunk = self.wavfile.buffer_read(minimal.args.frames_per_chunk, dtype='int16')\n",
    "        #print(len(chunk), args.frames_per_chunk)\n",
    "        if len(chunk) < minimal.args.frames_per_chunk*4:\n",
    "            logging.warning(\"Input exhausted! :-/\")\n",
    "            #print(self.recd_chunks.dtype)\n",
    "            #print(self.sent_chunks.dtype)\n",
    "            #print(self.recd_chunks)\n",
    "\n",
    "            rmse = np.sqrt(np.mean(np.square(np.array(self.recd_chunks, dtype='int16') - np.array(self.sent_chunks, dtype='int16'))))\n",
    "            print(rmse)\n",
    "            pid = os.getpid()\n",
    "            os.kill(pid, signal.SIGINT)\n",
    "            return self.zero_chunk\n",
    "        chunk = np.frombuffer(chunk, dtype=np.int16)\n",
    "        #try:\n",
    "        chunk = np.reshape(chunk, (minimal.args.frames_per_chunk, self.NUMBER_OF_CHANNELS))\n",
    "        #except ValueError:\n",
    "            #logging.warning(\"Input exhausted! :-/\")\n",
    "            #pid = os.getpid()\n",
    "            #os.kill(pid, signal.SIGINT)\n",
    "            #self.input_exhausted = True\n",
    "        return chunk\n",
    "\n",
    "class RMSEChunks_add_lost(RMSEChunks_no, BR_control_add_lost.BR_Control_Add_Lost):\n",
    "    pass\n",
    "\n",
    "class RMSEChunks_lost(RMSEChunks_no, BR_control_lost.BR_Control_Lost):\n",
    "    pass\n",
    "\n",
    "class RMSEChunks_conservative(RMSEChunks_no, BR_control_conservative.BR_Control_Conservative):\n",
    "    pass\n",
    "\n",
    "np.seterr(divide='ignore', invalid='ignore')\n",
    "\n",
    "try:\n",
    "    import argcomplete  # <tab> completion for argparse.\n",
    "except ImportError:\n",
    "    logging.warning(\"Unable to import argcomplete (optional)\")\n",
    "\n",
    "if __name__ == \"__main__\":\n",
    "    minimal.parser.description = __doc__\n",
    "\n",
    "    try:\n",
    "        argcomplete.autocomplete(minimal.parser)\n",
    "    except Exception:\n",
    "        logging.warning(\"argcomplete not working :-/\")\n",
    "\n",
    "    minimal.args = minimal.parser.parse_known_args()[0]\n",
    "\n",
    "    if minimal.args.list_devices:\n",
    "        print(\"Available devices:\")\n",
    "        print(sd.query_devices())\n",
    "        quit()\n",
    "\n",
    "    intercom = RMSEChunks_no()\n",
    "    \n",
    "    match minimal.args.bitrate_imp:\n",
    "        case 0:\n",
    "            pass\n",
    "        case 1:\n",
    "            intercom = RMSEChunks_add_lost()\n",
    "        case 2:\n",
    "            intercom = RMSEChunks_lost()\n",
    "        case 3:\n",
    "            intercom = RMSEChunks_conservative()\n",
    "    \n",
    "    try:\n",
    "        intercom.run()\n",
    "    except KeyboardInterrupt:\n",
    "        #minimal.parser.exit(\"\\nSIGINT received\")\n",
    "        minimal.parser.exit()\n",
    "    finally:\n",
    "        intercom.print_final_averages()"
   ]
  },
  {
   "cell_type": "markdown",
   "id": "1fa684dd-00db-4a4a-b91d-003905be865e",
   "metadata": {},
   "source": [
    "Logging and the exit message for the received _SIGINT_ were disabled, as `RMSE_chunks.py` had to be called from the outside for every simulated bitrate -- the RMSE values for each single bitrate could be most easily collected if they were the only output over `stdout`. To simulate the bitrates and collect the RMSEs for each implementation-bitrate pair automatically we implemented a small Python script called `plot_rd_curve.py`, calling `RMSE_chunks.py` (with the flag -O, as this sets `__debug__ = false` and thus disables the spinner) and `tc` for each combination of implementation and bitrate and collecting each RMSE value in a two-dimensional array. In the end, we receive four `matplotlib` plots, one for each of the implementations."
   ]
  },
  {
   "cell_type": "code",
   "execution_count": null,
   "id": "3133d34a-e0f7-4606-8b94-6262a263eb4c",
   "metadata": {},
   "outputs": [],
   "source": [
    "#!/usr/bin/env python\n",
    "# PYTHON_ARGCOMPLETE_OK\n",
    "\n",
    "import subprocess\n",
    "import matplotlib.pyplot as plt\n",
    "\n",
    "class PlotRDCurve:\n",
    "    def __init__(self, bitrates = list(range(100, 1300, 100))):\n",
    "        self.bitrates = bitrates\n",
    "        self.imps = {   0: 'BR_control_no.py',\n",
    "                        1: 'BR_control_add_lost.py',\n",
    "                        2: 'BR_control_lost.py',\n",
    "                        3: 'BR_control_conservative.py'}\n",
    "        self.imp_rmses = []\n",
    "    \n",
    "    def plot(self):\n",
    "        for imp_no in range(0, 4):\n",
    "            rmse_arr = []\n",
    "            for br in self.bitrates:\n",
    "                self.simulate_link(br)\n",
    "                rmse = subprocess.run(['python', '-O', 'RMSE_chunks.py', '-f', 'nuclear.wav', '-z', str(imp_no)], stdout=subprocess.PIPE).stdout\n",
    "                print(rmse)\n",
    "                rmse = float(rmse.decode('utf-8').rstrip())\n",
    "                rmse_arr.append(rmse)\n",
    "                self.delete_sim_rule(br)\n",
    "            self.imp_rmses.append(rmse_arr)\n",
    "        \n",
    "            plt.plot(self.bitrates, rmse_arr, marker='o')\n",
    "            plt.xlabel('Bitrate (kbps)')\n",
    "            plt.ylabel('RMSE')\n",
    "            plt.title('R/D curve for ' + self.imps[imp_no])\n",
    "            plt.savefig(self.imps[imp_no]+'.png')\n",
    "            plt.clf()\n",
    "    \n",
    "    def simulate_link(self, bitrate):\n",
    "        subprocess.run(['tc', 'qdisc', 'add', 'dev', 'lo', 'root', 'handle', '1:', 'tbf', 'rate', str(bitrate)+'kbit', 'burst', '32kbit', 'limit', '32kbit'])\n",
    "        #subprocess.run(['tc', 'qdisc', 'add', 'dev', 'lo', 'parent', '1:1', 'handle', '10:', 'netem', 'delay', '100ms', '10ms', '25%', 'distribution', 'normal'])\n",
    "    \n",
    "    def delete_sim_rule(self, bitrate):\n",
    "        #for bitrate in self.bitrates:\n",
    "            #subprocess.run(['tc', 'qdisc', 'delete', 'dev', 'lo', 'parent', '1:1', 'handle', '10:', 'netem', 'delay', '100ms', '10ms', '25%', 'distribution', 'normal'])\n",
    "        subprocess.run(['tc', 'qdisc', 'delete', 'dev', 'lo', 'root', 'handle', '1:', 'tbf', 'rate', str(bitrate)+'kbit', 'burst', '32kbit', 'limit', '32kbit'])\n",
    "\n",
    "if __name__ == \"__main__\":\n",
    "    plotter = PlotRDCurve()\n",
    "    plotter.plot()"
   ]
  },
  {
   "cell_type": "code",
   "execution_count": null,
   "id": "ef620424-eee7-41f0-adf7-8d2c9262d376",
   "metadata": {},
   "outputs": [],
   "source": []
  }
 ],
 "metadata": {
  "kernelspec": {
   "display_name": "Python 3 (ipykernel)",
   "language": "python",
   "name": "python3"
  },
  "language_info": {
   "codemirror_mode": {
    "name": "ipython",
    "version": 3
   },
   "file_extension": ".py",
   "mimetype": "text/x-python",
   "name": "python",
   "nbconvert_exporter": "python",
   "pygments_lexer": "ipython3",
   "version": "3.11.6"
  }
 },
 "nbformat": 4,
 "nbformat_minor": 5
}
