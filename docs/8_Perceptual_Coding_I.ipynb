{
 "cells": [
  {
   "cell_type": "markdown",
   "metadata": {},
   "source": [
    "# Perceptual Coding I: Threshold of Hearing"
   ]
  },
  {
   "cell_type": "markdown",
   "metadata": {},
   "source": [
    "Maximilian Hebeis, Artur Jakubowski, Weronika Niezorawska, Julia Plichta"
   ]
  },
  {
   "cell_type": "code",
   "execution_count": null,
   "metadata": {},
   "outputs": [],
   "source": [
    "def simulate_quantization_noise(self, audio_data, noise_threshold, noise_increase_rate):\n",
    "    subbands = []\n",
    "    noise_amplitude = 0\n",
    "\n",
    "    # Simulate the wavelet decomposition and quantization noise addition\n",
    "    for subband in audio_data:\n",
    "        processed_subband = self.simulate_wavelet_quantization_noise(subband, noise_threshold, noise_increase_rate, noise_amplitude)\n",
    "        subbands.append(processed_subband)\n",
    "\n",
    "    return subbands"
   ]
  },
  {
   "cell_type": "markdown",
   "metadata": {},
   "source": [
    "### Function: simulate_quantization_noise\n",
    "\n",
    "This function simulates the addition of quantization noise to wavelet-decomposed audio data.\n",
    "\n",
    "#### Input Parameters:\n",
    "\n",
    "- `audio_data`: List of subbands of audio data to be processed.\n",
    "- `noise_threshold`: Noise threshold determining when the noise becomes noticeable.\n",
    "- `noise_increase_rate`: Coefficient determining how quickly the noise amplitude increases.\n",
    "\n",
    "#### Description:\n",
    "\n",
    "1. For each subband `subband` in the audio data:\n",
    "   - Call the `simulate_wavelet_quantization_noise` function for the given subband, passing `subband`, `noise_threshold`, `noise_increase_rate`, and the current `noise_amplitude`.\n",
    "   - Append the processed subband to the `subbands` list.\n",
    "\n",
    "2. Return the `subbands` list containing processed subbands with added quantization noise."
   ]
  },
  {
   "cell_type": "code",
   "execution_count": null,
   "metadata": {},
   "outputs": [],
   "source": [
    "def simulate_wavelet_quantization_noise(self, subband, noise_threshold, noise_increase_rate, noise_amplitude):\n",
    "        while True:\n",
    "            noise_amplitude += noise_increase_rate\n",
    "            processed_subband = self.add_uniform_noise(subband, noise_amplitude)\n",
    "\n",
    "            # Measure the amplitude of the noise when it starts to be noticeable\n",
    "            noise_measurement = self.measure_noise_amplitude(processed_subband)\n",
    "\n",
    "            if noise_measurement > noise_threshold:\n",
    "                return processed_subband, noise_amplitude"
   ]
  },
  {
   "cell_type": "markdown",
   "metadata": {},
   "source": [
    "#### Input Parameters:\n",
    "\n",
    "- `subband`: Wavelet subband to which noise is added.\n",
    "- `noise_threshold`: The threshold of noise amplitude, determining when the noise becomes noticeable.\n",
    "- `noise_increase_rate`: The rate at which the noise amplitude increases.\n",
    "- `noise_amplitude`: The current amplitude of the noise.\n",
    "\n",
    "#### Description:\n",
    "\n",
    "1. Increase the `noise_amplitude` by the specified `noise_increase_rate`.\n",
    "\n",
    "2. Generate a new subband by adding uniform noise to the original `subband` using the `add_uniform_noise` function.\n",
    "\n",
    "3. Measure the amplitude of the noise in the processed subband when it starts to become noticeable using the `measure_noise_amplitude` function.\n",
    "\n",
    "4. Check if the measured noise amplitude is greater than the specified `noise_threshold`.\n",
    "\n",
    "5. If the condition is met, exit the loop and return the processed subband and the final noise amplitude."
   ]
  },
  {
   "cell_type": "code",
   "execution_count": null,
   "metadata": {},
   "outputs": [],
   "source": [
    "def add_uniform_noise(self, chunk_DWT, noise_amplitude):\n",
    "        processed_subband = chunk_DWT[self.slices[0][0]] + noise_amplitude\n",
    "        return processed_subband"
   ]
  },
  {
   "cell_type": "markdown",
   "metadata": {},
   "source": [
    "#### Input Parameters:\n",
    "\n",
    "- `chunk_DWT`: 1D numpy array representing the wavelet coefficients of the subband.\n",
    "- `noise_amplitude`: The amplitude of the noise to be added.\n",
    "\n",
    "#### Description:\n",
    "\n",
    "1. Access the portion of the wavelet coefficients in `chunk_DWT` corresponding to the first slice (`[0][0]`) of the subband.\n",
    "\n",
    "2. Add the specified `noise_amplitude` to the selected portion of the wavelet coefficients.\n",
    "\n",
    "3. Return the resulting `processed_subband`, which represents the subband with the added uniform noise."
   ]
  },
  {
   "cell_type": "code",
   "execution_count": null,
   "metadata": {},
   "outputs": [],
   "source": [
    "def measure_noise_amplitude(self, chunk_DWT):\n",
    "        # Create uniform noise samples\n",
    "        noise_amplitude = 1\n",
    "        noise_samples = np.random.uniform(-noise_amplitude, noise_amplitude, size=chunk_DWT[self.slices[0][0]].shape)\n",
    "\n",
    "        # Add noise samples to the original subband samples\n",
    "        processed_subband = chunk_DWT[self.slices[0][0]] + noise_samples\n",
    "\n",
    "        # Calculate the root mean square (RMS) of the noise samples added to the subband\n",
    "        noise_amplitude_rms = np.sqrt(np.mean(np.square(noise_samples)))\n",
    "\n",
    "        return noise_amplitude_rms\n",
    "        "
   ]
  },
  {
   "cell_type": "markdown",
   "metadata": {},
   "source": [
    "#### Input Parameters:\n",
    "\n",
    "- `chunk_DWT`: 1D numpy array representing the wavelet coefficients of the subband.\n",
    "\n",
    "#### Output:\n",
    "\n",
    "- `noise_amplitude_rms`: The root mean square (RMS) of the added noise samples.\n",
    "\n",
    "#### Description:\n",
    "\n",
    "1. Set the initial `noise_amplitude` to 1.\n",
    "\n",
    "2. Generate uniform noise samples using `np.random.uniform` within the range [-noise_amplitude, noise_amplitude]. The size of the noise samples is determined by the shape of the wavelet coefficients corresponding to the first slice (`[0][0]`) of the subband.\n",
    "\n",
    "3. Add the generated noise samples to the original subband samples in `chunk_DWT`.\n",
    "\n",
    "4. Calculate the root mean square (RMS) of the added noise samples using `np.sqrt(np.mean(np.square(noise_samples)))`.\n",
    "\n",
    "5. Return the calculated `noise_amplitude_rms`, representing the amplitude of the added noise.\n",
    "\n",
    "#### Notes:\n",
    "\n",
    "- The function uses uniform noise samples to simulate noise in the subband.\n",
    "- The RMS is calculated to quantify the amplitude of the added noise.\n",
    "- This function is part of the process of measuring noise amplitude in the context of wavelet decomposition.\n",
    "\n"
   ]
  }
 ],
 "metadata": {
  "kernelspec": {
   "display_name": "Python 3 (ipykernel)",
   "language": "python",
   "name": "python3"
  },
  "language_info": {
   "codemirror_mode": {
    "name": "ipython",
    "version": 3
   },
   "file_extension": ".py",
   "mimetype": "text/x-python",
   "name": "python",
   "nbconvert_exporter": "python",
   "pygments_lexer": "ipython3",
   "version": "3.11.6"
  }
 },
 "nbformat": 4,
 "nbformat_minor": 4
}
