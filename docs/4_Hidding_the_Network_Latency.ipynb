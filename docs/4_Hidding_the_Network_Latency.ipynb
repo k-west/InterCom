{
 "cells": [
  {
   "cell_type": "markdown",
   "id": "8b032125-621a-4b10-b16e-df0cdf7fe7f3",
   "metadata": {},
   "source": [
    "# Hidding the network jitter"
   ]
  },
  {
   "cell_type": "markdown",
   "id": "371a9cec-44af-4ba8-97ec-ffb0ff11a15f",
   "metadata": {},
   "source": [
    "Maximilian Hebeis, Artur Jakubowski, Weronika Niezorawska, Julia Plichta"
   ]
  },
  {
   "cell_type": "markdown",
   "id": "56ec9b9b-0871-4b6a-ba3c-b5c8a924429d",
   "metadata": {},
   "source": [
    "We choose a simulated link option, so we are using two separete instances of intermcoms that runs in two terminals\n",
    " \n",
    " ## Measuring latency\n",
    " \n",
    " We are sending the ping to the localhost where chunksize is set to 1024, using the specified command and we are saving the output in a ping.txt file:\n",
    " \n",
    " **`ping localhost -c 100 -s <payload_length_in_bytes> > /tmp/ping.txt`**\n",
    "\n",
    " >PING localhost(localhost (::1)) 1024 data bytes  \n",
    " 1032 bytes from localhost (::1): icmp_seq=1 ttl=64 time=0.054 ms  \n",
    " 1032 bytes from localhost (::1): icmp_seq=2 ttl=64 time=0.052 ms  \n",
    " 1032 bytes from localhost (::1): icmp_seq=3 ttl=64 time=0.065 ms  \n",
    " 1032 bytes from localhost (::1): icmp_seq=4 ttl=64 time=0.079 ms<  \n",
    " ...\n",
    "\n",
    "##### localhost ping statistics\n",
    "100 packets transmitted, 100 received, 0% packet loss, time 100267ms  \n",
    "rtt min/avg/max/mdev = 0.038/0.056/0.128/0.012 ms  \n",
    "  \n",
    "  \n",
    "## Bulding histogram with python\n",
    "Now we are calculating the average latency, the maximum absolute deviation (jitter) and the Pearson correlation coefficient using this Python code from the website:"
   ]
  },
  {
   "cell_type": "code",
   "execution_count": 4,
   "id": "fd33bd5f-cb90-45c6-b962-ace3298dd125",
   "metadata": {},
   "outputs": [
    {
     "name": "stdout",
     "output_type": "stream",
     "text": [
      "\n",
      "average latency = 0.02862\n",
      "maximum absolute deviation (jitter) = 0.039880000000000006\n",
      "Pearson correlation coefficient = 0.15588872533615594\n"
     ]
    }
   ],
   "source": [
    "import numpy as np \n",
    "from scipy import stats\n",
    "\n",
    "latencies = np.loadtxt(\"/tmp/localhost_latencies.txt\") \n",
    "average_latency = np.average(latencies) \n",
    "print(\"\\naverage latency =\", average_latency) \n",
    "max_latency = np.max(latencies) \n",
    "min_latency = np.min(latencies) \n",
    "maximum_absolute_deviation = max(max_latency - average_latency, average_latency - min_latency) \n",
    "print(\"maximum absolute deviation (jitter) =\", maximum_absolute_deviation) \n",
    "correlation_coefficient = stats.pearsonr(latencies, np.roll(latencies, 1))[0] \n",
    "print(\"Pearson correlation coefficient =\", correlation_coefficient) \n",
    "if correlation_coefficient < 0: \n",
    "  print(\"Correlation coefficient < 0: use 0 (no correlation between RTT samples) in your experiments\") \n",
    "histogram = np.histogram(latencies) \n",
    "np.savetxt(\"/tmp/localhost_histogram.txt\", histogram[0])\n",
    "\n",
    "\n",
    " "
   ]
  },
  {
   "cell_type": "markdown",
   "id": "6d1c94f0",
   "metadata": {},
   "source": [
    "**`plot \"/tmp/localhost_histogram.txt\" with histogram`**"
   ]
  },
  {
   "cell_type": "markdown",
   "id": "f5f9346b-2a87-4e3f-a560-5f7cc7b09d29",
   "metadata": {},
   "source": [
    "  \n",
    "  \n",
    "## Characterizing the latency in the internet\n",
    "We were using 'eduroam' network to conduct an experiment.    \n",
    "- Our local IP of our router is: `172.20.32.1`  \n",
    "- And public IP is: `150.214.223.70`"
   ]
  },
  {
   "cell_type": "markdown",
   "id": "a3a30e77",
   "metadata": {},
   "source": [
    "Unfortunetly we could not receive any ping answer from our router by sending it using it's public address.\n",
    "\n",
    "> PING 150.214.223.70 (150.214.223.70) 1024(1092) bytes of data.  \n",
    "\n",
    ">--- 150.214.223.70 ping statistics ---  \n",
    ">100 packets transmitted, 0 received, 100% packet loss, time 101383ms"
   ]
  },
  {
   "cell_type": "markdown",
   "id": "4c1d5b61",
   "metadata": {},
   "source": [
    "## Quantification of the QoE (In our host, simulating the Internet)\n",
    "\n",
    "Using the data we obtained (average latency, max. absolute deviation (jitter) and the Pearson correlation coefficient), we simulate the measured latency using `tc` by adding a new rule for the loopback device `lo`.\n",
    "\n",
    "Connecting to `localhost` with `minimal.py`, the network jitter is clearly audible:"
   ]
  },
  {
   "cell_type": "markdown",
   "id": "513653d0-5911-4578-be1e-71ffc7287b67",
   "metadata": {},
   "source": [
    "<iframe width=\"560\" height=\"315\"\n",
    " src=\"https://youtube.com/embed/r1WWVCR-OfQ\">\n",
    "</iframe>"
   ]
  },
  {
   "cell_type": "markdown",
   "id": "c3ffbd11",
   "metadata": {},
   "source": [
    "Following this, we tried buffering times of 10, 50, 70, 80, 85 and 90 ms and determined a buffering time of 85ms to be the minimum buffering time that allows us to hide the jitter in our network environment.\n",
    "\n",
    "After running `buffer.py` with a `buffering_time` of 85 ms, the jitter is gone:"
   ]
  },
  {
   "cell_type": "markdown",
   "id": "e474c428",
   "metadata": {},
   "source": [
    "<iframe width=\"560\" height=\"315\"\n",
    " src=\"https://youtube.com/embed/EWQKjyk6SsA\">\n",
    "</iframe>"
   ]
  }
 ],
 "metadata": {
  "kernelspec": {
   "display_name": "Python 3 (ipykernel)",
   "language": "python",
   "name": "python3"
  },
  "language_info": {
   "codemirror_mode": {
    "name": "ipython",
    "version": 3
   },
   "file_extension": ".py",
   "mimetype": "text/x-python",
   "name": "python",
   "nbconvert_exporter": "python",
   "pygments_lexer": "ipython3",
   "version": "3.11.6"
  }
 },
 "nbformat": 4,
 "nbformat_minor": 5
}
